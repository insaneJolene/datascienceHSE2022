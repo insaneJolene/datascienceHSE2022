{
 "cells": [
  {
   "cell_type": "markdown",
   "id": "f2b20030",
   "metadata": {},
   "source": [
    "# <center> Практическая работа №2 </center>\n",
    "## <center> Маркетинговая кампания сети быстрого питания"
   ]
  },
  {
   "cell_type": "markdown",
   "id": "bc4e4800",
   "metadata": {},
   "source": [
    "Группа: ММР212            \n",
    "Выполнила: Шубина Анастасия"
   ]
  },
  {
   "cell_type": "markdown",
   "id": "ef3edaf7",
   "metadata": {},
   "source": [
    "<a id='Content'></a>\n",
    "## Оглавление\n",
    "- [Импорт пакетов](#Packages)\n",
    "- [Описание данных](#Variables)\n",
    "- [Чтение набора данных](#Dataset)\n",
    "- [Предварительный анализ данных](#EDA)\n",
    "- [Тестирование](#Tests)\n",
    " - [Тест Тьюки](#TestTukey)\n",
    " - [U-тест Манна-Уитни](#UTest)\n",
    "- [Вывод](#Сonclusion)"
   ]
  },
  {
   "cell_type": "markdown",
   "id": "072f5412",
   "metadata": {},
   "source": [
    "<a id='Packages'></a>\n",
    "## Импорт пакетов\n",
    "[Наверх](#Content)"
   ]
  },
  {
   "cell_type": "code",
   "execution_count": 1,
   "id": "2037363a",
   "metadata": {
    "scrolled": false
   },
   "outputs": [],
   "source": [
    "import pandas as pd\n",
    "import numpy as np\n",
    "import matplotlib.pyplot as plt\n",
    "import seaborn as sns\n",
    "import scipy.stats as stats\n",
    "from statsmodels.stats.multicomp import pairwise_tukeyhsd\n",
    "from statsmodels.graphics.factorplots import interaction_plot\n",
    "%matplotlib inline"
   ]
  },
  {
   "cell_type": "markdown",
   "id": "420eba94",
   "metadata": {},
   "source": [
    "<a id='Variables'></a>\n",
    "    \n",
    "## Описание данных\n",
    "[Наверх](#Content)\n",
    "\n",
    "[Источник](https://www.kaggle.com/datasets/chebotinaa/fast-food-marketing-campaign-ab-test)\n",
    "\n",
    "| Имя переменной | Описание |\n",
    "|:-- | :-- |\n",
    "| MarketID |Уникальный индетификатор рынка |\n",
    "| MarketSize |Размер рынка по объёму продаж |\n",
    "| LocationID |Уникальный индетификатор для точки продаж |\n",
    "| AgeOfStore |Возраст точки в годах |\n",
    "| Promotion |Одна из трёх протестированных кампаний |\n",
    "| week |Одна из четырёх недель, когда проводилась кампания |\n",
    "| SalesInThousands |Объём продаж для определённых LocationID, Promotion и week |"
   ]
  },
  {
   "cell_type": "markdown",
   "id": "1874ab2d",
   "metadata": {},
   "source": [
    "<a id='Dataset'></a>\n",
    "## Чтение набора данных\n",
    "[Наверх](#Content)"
   ]
  },
  {
   "cell_type": "code",
   "execution_count": 2,
   "id": "acf33f5b",
   "metadata": {},
   "outputs": [],
   "source": [
    "#Чтение данных\n",
    "fastfood_df = pd.read_csv('WA_Marketing-Campaign.csv', sep=',')"
   ]
  },
  {
   "cell_type": "code",
   "execution_count": 3,
   "id": "440397cf",
   "metadata": {},
   "outputs": [],
   "source": [
    "# Установка глобальных стилей для графиков\n",
    "colors = ['#464776', '#746BB9', '#EFB5C3', '#EFF2CF', '#E4D7F0']\n",
    "sns.set_style('white')\n",
    "plt.rc('axes', titlesize=13)\n",
    "plt.rc('axes', labelsize=12)\n",
    "plt.rc('xtick', labelsize=11)\n",
    "plt.rc('ytick', labelsize=11)\n",
    "plt.rc('legend', fontsize=11)\n",
    "plt.rc('font', size=10)"
   ]
  },
  {
   "cell_type": "markdown",
   "id": "7f4005b6",
   "metadata": {},
   "source": [
    "<a id='EDA'></a>\n",
    "## Предварительный анализ данных\n",
    "[Наверх](#Content)"
   ]
  },
  {
   "cell_type": "code",
   "execution_count": 4,
   "id": "b05e758f",
   "metadata": {},
   "outputs": [
    {
     "data": {
      "text/html": [
       "<div>\n",
       "<style scoped>\n",
       "    .dataframe tbody tr th:only-of-type {\n",
       "        vertical-align: middle;\n",
       "    }\n",
       "\n",
       "    .dataframe tbody tr th {\n",
       "        vertical-align: top;\n",
       "    }\n",
       "\n",
       "    .dataframe thead th {\n",
       "        text-align: right;\n",
       "    }\n",
       "</style>\n",
       "<table border=\"1\" class=\"dataframe\">\n",
       "  <thead>\n",
       "    <tr style=\"text-align: right;\">\n",
       "      <th></th>\n",
       "      <th>MarketID</th>\n",
       "      <th>MarketSize</th>\n",
       "      <th>LocationID</th>\n",
       "      <th>AgeOfStore</th>\n",
       "      <th>Promotion</th>\n",
       "      <th>week</th>\n",
       "      <th>SalesInThousands</th>\n",
       "    </tr>\n",
       "  </thead>\n",
       "  <tbody>\n",
       "    <tr>\n",
       "      <th>0</th>\n",
       "      <td>1</td>\n",
       "      <td>Medium</td>\n",
       "      <td>1</td>\n",
       "      <td>4</td>\n",
       "      <td>3</td>\n",
       "      <td>1</td>\n",
       "      <td>33.73</td>\n",
       "    </tr>\n",
       "    <tr>\n",
       "      <th>1</th>\n",
       "      <td>1</td>\n",
       "      <td>Medium</td>\n",
       "      <td>1</td>\n",
       "      <td>4</td>\n",
       "      <td>3</td>\n",
       "      <td>2</td>\n",
       "      <td>35.67</td>\n",
       "    </tr>\n",
       "    <tr>\n",
       "      <th>2</th>\n",
       "      <td>1</td>\n",
       "      <td>Medium</td>\n",
       "      <td>1</td>\n",
       "      <td>4</td>\n",
       "      <td>3</td>\n",
       "      <td>3</td>\n",
       "      <td>29.03</td>\n",
       "    </tr>\n",
       "    <tr>\n",
       "      <th>3</th>\n",
       "      <td>1</td>\n",
       "      <td>Medium</td>\n",
       "      <td>1</td>\n",
       "      <td>4</td>\n",
       "      <td>3</td>\n",
       "      <td>4</td>\n",
       "      <td>39.25</td>\n",
       "    </tr>\n",
       "    <tr>\n",
       "      <th>4</th>\n",
       "      <td>1</td>\n",
       "      <td>Medium</td>\n",
       "      <td>2</td>\n",
       "      <td>5</td>\n",
       "      <td>2</td>\n",
       "      <td>1</td>\n",
       "      <td>27.81</td>\n",
       "    </tr>\n",
       "    <tr>\n",
       "      <th>5</th>\n",
       "      <td>1</td>\n",
       "      <td>Medium</td>\n",
       "      <td>2</td>\n",
       "      <td>5</td>\n",
       "      <td>2</td>\n",
       "      <td>2</td>\n",
       "      <td>34.67</td>\n",
       "    </tr>\n",
       "    <tr>\n",
       "      <th>6</th>\n",
       "      <td>1</td>\n",
       "      <td>Medium</td>\n",
       "      <td>2</td>\n",
       "      <td>5</td>\n",
       "      <td>2</td>\n",
       "      <td>3</td>\n",
       "      <td>27.98</td>\n",
       "    </tr>\n",
       "    <tr>\n",
       "      <th>7</th>\n",
       "      <td>1</td>\n",
       "      <td>Medium</td>\n",
       "      <td>2</td>\n",
       "      <td>5</td>\n",
       "      <td>2</td>\n",
       "      <td>4</td>\n",
       "      <td>27.72</td>\n",
       "    </tr>\n",
       "    <tr>\n",
       "      <th>8</th>\n",
       "      <td>1</td>\n",
       "      <td>Medium</td>\n",
       "      <td>3</td>\n",
       "      <td>12</td>\n",
       "      <td>1</td>\n",
       "      <td>1</td>\n",
       "      <td>44.54</td>\n",
       "    </tr>\n",
       "    <tr>\n",
       "      <th>9</th>\n",
       "      <td>1</td>\n",
       "      <td>Medium</td>\n",
       "      <td>3</td>\n",
       "      <td>12</td>\n",
       "      <td>1</td>\n",
       "      <td>2</td>\n",
       "      <td>37.94</td>\n",
       "    </tr>\n",
       "  </tbody>\n",
       "</table>\n",
       "</div>"
      ],
      "text/plain": [
       "   MarketID MarketSize  LocationID  AgeOfStore  Promotion  week  \\\n",
       "0         1     Medium           1           4          3     1   \n",
       "1         1     Medium           1           4          3     2   \n",
       "2         1     Medium           1           4          3     3   \n",
       "3         1     Medium           1           4          3     4   \n",
       "4         1     Medium           2           5          2     1   \n",
       "5         1     Medium           2           5          2     2   \n",
       "6         1     Medium           2           5          2     3   \n",
       "7         1     Medium           2           5          2     4   \n",
       "8         1     Medium           3          12          1     1   \n",
       "9         1     Medium           3          12          1     2   \n",
       "\n",
       "   SalesInThousands  \n",
       "0             33.73  \n",
       "1             35.67  \n",
       "2             29.03  \n",
       "3             39.25  \n",
       "4             27.81  \n",
       "5             34.67  \n",
       "6             27.98  \n",
       "7             27.72  \n",
       "8             44.54  \n",
       "9             37.94  "
      ]
     },
     "execution_count": 4,
     "metadata": {},
     "output_type": "execute_result"
    }
   ],
   "source": [
    "fastfood_df.head(10)"
   ]
  },
  {
   "cell_type": "code",
   "execution_count": 5,
   "id": "d4a2142f",
   "metadata": {},
   "outputs": [
    {
     "name": "stdout",
     "output_type": "stream",
     "text": [
      "<class 'pandas.core.frame.DataFrame'>\n",
      "RangeIndex: 548 entries, 0 to 547\n",
      "Data columns (total 7 columns):\n",
      " #   Column            Non-Null Count  Dtype  \n",
      "---  ------            --------------  -----  \n",
      " 0   MarketID          548 non-null    int64  \n",
      " 1   MarketSize        548 non-null    object \n",
      " 2   LocationID        548 non-null    int64  \n",
      " 3   AgeOfStore        548 non-null    int64  \n",
      " 4   Promotion         548 non-null    int64  \n",
      " 5   week              548 non-null    int64  \n",
      " 6   SalesInThousands  548 non-null    float64\n",
      "dtypes: float64(1), int64(5), object(1)\n",
      "memory usage: 30.1+ KB\n"
     ]
    }
   ],
   "source": [
    "fastfood_df.info()"
   ]
  },
  {
   "cell_type": "markdown",
   "id": "e37fed0c",
   "metadata": {},
   "source": [
    "Исходя из информации выше в датасете: 7 столбцов и 548 строк.    \n",
    "1 переменная является строковым типом данных, 5 переменных - целочисленный тип и 1 переменная с плавающей точкой."
   ]
  },
  {
   "cell_type": "code",
   "execution_count": 6,
   "id": "56c3ecce",
   "metadata": {},
   "outputs": [
    {
     "data": {
      "text/plain": [
       "MarketID            0\n",
       "MarketSize          0\n",
       "LocationID          0\n",
       "AgeOfStore          0\n",
       "Promotion           0\n",
       "week                0\n",
       "SalesInThousands    0\n",
       "dtype: int64"
      ]
     },
     "execution_count": 6,
     "metadata": {},
     "output_type": "execute_result"
    }
   ],
   "source": [
    "fastfood_df.isnull().sum()"
   ]
  },
  {
   "cell_type": "markdown",
   "id": "a6d7e326",
   "metadata": {},
   "source": [
    "Кол-во пустых значений"
   ]
  },
  {
   "cell_type": "code",
   "execution_count": 7,
   "id": "7c987393",
   "metadata": {},
   "outputs": [
    {
     "name": "stdout",
     "output_type": "stream",
     "text": [
      "Кол-во дублированных записей в датасете: 0\n"
     ]
    }
   ],
   "source": [
    "#5. Работа с пропущенными значениями\n",
    "dupl = sum(fastfood_df.duplicated())\n",
    "print(f\"Кол-во дублированных записей в датасете: {dupl}\")"
   ]
  },
  {
   "cell_type": "code",
   "execution_count": 8,
   "id": "80b3e843",
   "metadata": {},
   "outputs": [
    {
     "data": {
      "text/html": [
       "<div>\n",
       "<style scoped>\n",
       "    .dataframe tbody tr th:only-of-type {\n",
       "        vertical-align: middle;\n",
       "    }\n",
       "\n",
       "    .dataframe tbody tr th {\n",
       "        vertical-align: top;\n",
       "    }\n",
       "\n",
       "    .dataframe thead th {\n",
       "        text-align: right;\n",
       "    }\n",
       "</style>\n",
       "<table border=\"1\" class=\"dataframe\">\n",
       "  <thead>\n",
       "    <tr style=\"text-align: right;\">\n",
       "      <th></th>\n",
       "      <th>count</th>\n",
       "      <th>mean</th>\n",
       "      <th>std</th>\n",
       "      <th>min</th>\n",
       "      <th>25%</th>\n",
       "      <th>50%</th>\n",
       "      <th>75%</th>\n",
       "      <th>max</th>\n",
       "    </tr>\n",
       "    <tr>\n",
       "      <th>Promotion</th>\n",
       "      <th></th>\n",
       "      <th></th>\n",
       "      <th></th>\n",
       "      <th></th>\n",
       "      <th></th>\n",
       "      <th></th>\n",
       "      <th></th>\n",
       "      <th></th>\n",
       "    </tr>\n",
       "  </thead>\n",
       "  <tbody>\n",
       "    <tr>\n",
       "      <th>1</th>\n",
       "      <td>172.0</td>\n",
       "      <td>58.099012</td>\n",
       "      <td>16.553782</td>\n",
       "      <td>30.81</td>\n",
       "      <td>46.3525</td>\n",
       "      <td>55.385</td>\n",
       "      <td>63.6175</td>\n",
       "      <td>99.65</td>\n",
       "    </tr>\n",
       "    <tr>\n",
       "      <th>2</th>\n",
       "      <td>188.0</td>\n",
       "      <td>47.329415</td>\n",
       "      <td>15.108955</td>\n",
       "      <td>17.34</td>\n",
       "      <td>38.1700</td>\n",
       "      <td>45.385</td>\n",
       "      <td>51.7450</td>\n",
       "      <td>88.64</td>\n",
       "    </tr>\n",
       "    <tr>\n",
       "      <th>3</th>\n",
       "      <td>188.0</td>\n",
       "      <td>55.364468</td>\n",
       "      <td>16.766231</td>\n",
       "      <td>22.18</td>\n",
       "      <td>44.1975</td>\n",
       "      <td>51.165</td>\n",
       "      <td>61.7325</td>\n",
       "      <td>96.48</td>\n",
       "    </tr>\n",
       "  </tbody>\n",
       "</table>\n",
       "</div>"
      ],
      "text/plain": [
       "           count       mean        std    min      25%     50%      75%    max\n",
       "Promotion                                                                     \n",
       "1          172.0  58.099012  16.553782  30.81  46.3525  55.385  63.6175  99.65\n",
       "2          188.0  47.329415  15.108955  17.34  38.1700  45.385  51.7450  88.64\n",
       "3          188.0  55.364468  16.766231  22.18  44.1975  51.165  61.7325  96.48"
      ]
     },
     "execution_count": 8,
     "metadata": {},
     "output_type": "execute_result"
    }
   ],
   "source": [
    "fastfood_df.groupby('Promotion')['SalesInThousands'].describe()"
   ]
  },
  {
   "cell_type": "code",
   "execution_count": 9,
   "id": "a79ff5d2",
   "metadata": {},
   "outputs": [
    {
     "data": {
      "text/plain": [
       "MarketID             10\n",
       "MarketSize            3\n",
       "LocationID          137\n",
       "AgeOfStore           25\n",
       "Promotion             3\n",
       "week                  4\n",
       "SalesInThousands    517\n",
       "dtype: int64"
      ]
     },
     "execution_count": 9,
     "metadata": {},
     "output_type": "execute_result"
    }
   ],
   "source": [
    "fastfood_df.nunique()"
   ]
  },
  {
   "cell_type": "markdown",
   "id": "6a66ec17",
   "metadata": {},
   "source": [
    "Кол-во уникальных значений в каждом столбце"
   ]
  },
  {
   "cell_type": "code",
   "execution_count": 10,
   "id": "66391da4",
   "metadata": {},
   "outputs": [
    {
     "data": {
      "text/plain": [
       "Promotion  MarketSize\n",
       "1          Large          56\n",
       "           Medium         96\n",
       "           Small          20\n",
       "2          Large          64\n",
       "           Medium        108\n",
       "           Small          16\n",
       "3          Large          48\n",
       "           Medium        116\n",
       "           Small          24\n",
       "Name: MarketID, dtype: int64"
      ]
     },
     "execution_count": 10,
     "metadata": {},
     "output_type": "execute_result"
    }
   ],
   "source": [
    "fastfood_df.groupby([\"Promotion\", \"MarketSize\"]).count()[\"MarketID\"]"
   ]
  },
  {
   "cell_type": "markdown",
   "id": "60b11556",
   "metadata": {},
   "source": [
    "Данные о продажах в зависимости от метода продвижения и размера рынка"
   ]
  },
  {
   "cell_type": "code",
   "execution_count": 11,
   "id": "61ca688e",
   "metadata": {},
   "outputs": [
    {
     "data": {
      "text/plain": [
       "<AxesSubplot:xlabel='Promotion'>"
      ]
     },
     "execution_count": 11,
     "metadata": {},
     "output_type": "execute_result"
    },
    {
     "data": {
      "image/png": "[encoded data removed]",
      "text/plain": [
       "<Figure size 648x648 with 1 Axes>"
      ]
     },
     "metadata": {},
     "output_type": "display_data"
    }
   ],
   "source": [
    "fastfood_df.groupby(['Promotion', 'MarketSize']).size().unstack().plot(kind='bar', figsize=(9,9), \n",
    "                                                                       stacked=True, color=colors)"
   ]
  },
  {
   "cell_type": "code",
   "execution_count": 12,
   "id": "6e6e4296",
   "metadata": {},
   "outputs": [
    {
     "data": {
      "text/plain": [
       "<AxesSubplot:ylabel='SalesInThousands'>"
      ]
     },
     "execution_count": 12,
     "metadata": {},
     "output_type": "execute_result"
    },
    {
     "data": {
      "image/png": "[encoded data removed]",
      "text/plain": [
       "<Figure size 648x648 with 1 Axes>"
      ]
     },
     "metadata": {},
     "output_type": "display_data"
    }
   ],
   "source": [
    "fastfood_df.groupby('Promotion').sum().plot(kind='pie', y='SalesInThousands', startangle=45,\n",
    "                                                  figsize=(9,9), autopct='%1.1f%%', colors=colors)"
   ]
  },
  {
   "cell_type": "code",
   "execution_count": 13,
   "id": "cd209a7b",
   "metadata": {},
   "outputs": [
    {
     "data": {
      "text/plain": [
       "<AxesSubplot:>"
      ]
     },
     "execution_count": 13,
     "metadata": {},
     "output_type": "execute_result"
    },
    {
     "data": {
      "image/png": "[encoded data removed]",
      "text/plain": [
       "<Figure size 648x648 with 1 Axes>"
      ]
     },
     "metadata": {},
     "output_type": "display_data"
    }
   ],
   "source": [
    "fastfood_df['AgeOfStore'].hist(color=colors[1], figsize=(9,9))"
   ]
  },
  {
   "cell_type": "markdown",
   "id": "0964f6bc",
   "metadata": {},
   "source": [
    "Уровень продвижения в зависимости от возраста точки"
   ]
  },
  {
   "cell_type": "code",
   "execution_count": 14,
   "id": "18fb20e4",
   "metadata": {},
   "outputs": [
    {
     "data": {
      "image/png": "[encoded data removed]",
      "text/plain": [
       "<Figure size 432x288 with 1 Axes>"
      ]
     },
     "metadata": {},
     "output_type": "display_data"
    }
   ],
   "source": [
    "sns.set(font_scale=1)\n",
    "sns.barplot(x='MarketSize', y='SalesInThousands', data=fastfood_df, hue='week', color=colors[1])\n",
    "plt.legend(bbox_to_anchor=(1.02, 1), loc='upper left', borderaxespad=0)\n",
    "plt.title(\"Кол-во продаж в зависимости от размера точки и недели проведения рекламной акции\", fontdict={'fontsize': 16})\n",
    "plt.show()"
   ]
  },
  {
   "cell_type": "markdown",
   "id": "30903260",
   "metadata": {},
   "source": [
    "Исходя из данных выше можно понять, что в каждом размеры рынка нет сильной разницы в зависимости от недели."
   ]
  },
  {
   "cell_type": "code",
   "execution_count": 15,
   "id": "583f69bd",
   "metadata": {},
   "outputs": [
    {
     "data": {
      "text/plain": [
       "0     -0.198785\n",
       "1      0.082351\n",
       "2     -0.879890\n",
       "3      0.601150\n",
       "4     -1.056687\n",
       "         ...   \n",
       "543    1.492358\n",
       "544   -0.505223\n",
       "545   -1.133882\n",
       "546   -1.340138\n",
       "547   -0.616827\n",
       "Name: SalesInThousands, Length: 548, dtype: float64"
      ]
     },
     "execution_count": 15,
     "metadata": {},
     "output_type": "execute_result"
    }
   ],
   "source": [
    "fastfood_df.groupby('MarketID')['SalesInThousands'].apply(stats.zscore)"
   ]
  },
  {
   "cell_type": "code",
   "execution_count": 16,
   "id": "d487092a",
   "metadata": {},
   "outputs": [
    {
     "data": {
      "text/plain": [
       "<matplotlib.collections.PathCollection at 0x7fe2bcb3ce50>"
      ]
     },
     "execution_count": 16,
     "metadata": {},
     "output_type": "execute_result"
    },
    {
     "data": {
      "image/png": "[encoded data removed]",
      "text/plain": [
       "<Figure size 432x288 with 1 Axes>"
      ]
     },
     "metadata": {},
     "output_type": "display_data"
    }
   ],
   "source": [
    "plt.scatter(fastfood_df['SalesInThousands'], fastfood_df['MarketSize'], c=colors[1])"
   ]
  },
  {
   "cell_type": "code",
   "execution_count": 17,
   "id": "844be10a",
   "metadata": {},
   "outputs": [
    {
     "data": {
      "text/plain": [
       "<AxesSubplot:xlabel='SalesInThousands', ylabel='Count'>"
      ]
     },
     "execution_count": 17,
     "metadata": {},
     "output_type": "execute_result"
    },
    {
     "data": {
      "image/png": "[encoded data removed]",
      "text/plain": [
       "<Figure size 432x288 with 1 Axes>"
      ]
     },
     "metadata": {},
     "output_type": "display_data"
    }
   ],
   "source": [
    "sns.histplot(fastfood_df[fastfood_df['Promotion'] == 1]['SalesInThousands'], kde=True, color=colors[0])\n",
    "sns.histplot(fastfood_df[fastfood_df['Promotion'] == 2]['SalesInThousands'], kde=True, color=colors[1])\n",
    "sns.histplot(fastfood_df[fastfood_df['Promotion'] == 3]['SalesInThousands'], kde=True, color=colors[3])"
   ]
  },
  {
   "cell_type": "markdown",
   "id": "96900636",
   "metadata": {},
   "source": [
    "Исходя из выше указанной гистограммы мы видим, что данные распределены не равномерно."
   ]
  },
  {
   "cell_type": "markdown",
   "id": "36bf0e28",
   "metadata": {},
   "source": [
    "<a id='Tests'></a>\n",
    "## Тестирование гипотез\n",
    "[Наверх](#Content)"
   ]
  },
  {
   "cell_type": "markdown",
   "id": "0ab6e4c6",
   "metadata": {},
   "source": [
    "<a id='TestTukey'></a>\n",
    "### Тест Тьюки"
   ]
  },
  {
   "cell_type": "code",
   "execution_count": 18,
   "id": "82c324e6",
   "metadata": {},
   "outputs": [],
   "source": [
    "def tukey_test(table, var):\n",
    "    tukey = pairwise_tukeyhsd(endog=fastfood_df['SalesInThousands'],\n",
    "                              groups=fastfood_df['Promotion'],\n",
    "                              alpha=0.05)\n",
    "    print(tukey)\n",
    "    tukey.plot_simultaneous() \n",
    "    title=\"Сравнение между рекламными акциями в \" + var\n",
    "    plt.title(title)\n",
    "    plt.xlabel(\"Продажи в тысячах\")\n",
    "    plt.ylabel(\"Рекламные акции\")\n",
    "    plt.show()"
   ]
  },
  {
   "cell_type": "code",
   "execution_count": 19,
   "id": "32e8f93b",
   "metadata": {},
   "outputs": [
    {
     "name": "stdout",
     "output_type": "stream",
     "text": [
      " Multiple Comparison of Means - Tukey HSD, FWER=0.05 \n",
      "=====================================================\n",
      "group1 group2 meandiff p-adj   lower    upper  reject\n",
      "-----------------------------------------------------\n",
      "     1      2 -10.7696    0.0 -14.7738 -6.7654   True\n",
      "     1      3  -2.7345 0.2444  -6.7388  1.2697  False\n",
      "     2      3   8.0351    0.0   4.1208 11.9493   True\n",
      "-----------------------------------------------------\n"
     ]
    },
    {
     "data": {
      "image/png": "[encoded data removed]",
      "text/plain": [
       "<Figure size 720x432 with 1 Axes>"
      ]
     },
     "metadata": {},
     "output_type": "display_data"
    }
   ],
   "source": [
    "tukey_test(fastfood_df,\"общем датасете\")"
   ]
  },
  {
   "cell_type": "code",
   "execution_count": 20,
   "id": "49e5edd1",
   "metadata": {},
   "outputs": [],
   "source": [
    "MS_Small=fastfood_df[fastfood_df['MarketSize'] =='Small']\n",
    "MS_Medium=fastfood_df[fastfood_df['MarketSize'] =='Medium']\n",
    "MS_Large=fastfood_df[fastfood_df['MarketSize'] =='Large']"
   ]
  },
  {
   "cell_type": "code",
   "execution_count": 21,
   "id": "5a149938",
   "metadata": {},
   "outputs": [
    {
     "name": "stdout",
     "output_type": "stream",
     "text": [
      " Multiple Comparison of Means - Tukey HSD, FWER=0.05 \n",
      "=====================================================\n",
      "group1 group2 meandiff p-adj   lower    upper  reject\n",
      "-----------------------------------------------------\n",
      "     1      2 -10.7696    0.0 -14.7738 -6.7654   True\n",
      "     1      3  -2.7345 0.2444  -6.7388  1.2697  False\n",
      "     2      3   8.0351    0.0   4.1208 11.9493   True\n",
      "-----------------------------------------------------\n"
     ]
    },
    {
     "data": {
      "image/png": "[encoded data removed]",
      "text/plain": [
       "<Figure size 720x432 with 1 Axes>"
      ]
     },
     "metadata": {},
     "output_type": "display_data"
    }
   ],
   "source": [
    "tukey_test(MS_Small,\"малом размере рынка\")"
   ]
  },
  {
   "cell_type": "code",
   "execution_count": 22,
   "id": "8f320b41",
   "metadata": {},
   "outputs": [
    {
     "name": "stdout",
     "output_type": "stream",
     "text": [
      " Multiple Comparison of Means - Tukey HSD, FWER=0.05 \n",
      "=====================================================\n",
      "group1 group2 meandiff p-adj   lower    upper  reject\n",
      "-----------------------------------------------------\n",
      "     1      2 -10.7696    0.0 -14.7738 -6.7654   True\n",
      "     1      3  -2.7345 0.2444  -6.7388  1.2697  False\n",
      "     2      3   8.0351    0.0   4.1208 11.9493   True\n",
      "-----------------------------------------------------\n"
     ]
    },
    {
     "data": {
      "image/png": "[encoded data removed]",
      "text/plain": [
       "<Figure size 720x432 with 1 Axes>"
      ]
     },
     "metadata": {},
     "output_type": "display_data"
    }
   ],
   "source": [
    "tukey_test(MS_Medium,\"среднем размере рынка\")"
   ]
  },
  {
   "cell_type": "code",
   "execution_count": 23,
   "id": "6645a2e8",
   "metadata": {},
   "outputs": [
    {
     "name": "stdout",
     "output_type": "stream",
     "text": [
      " Multiple Comparison of Means - Tukey HSD, FWER=0.05 \n",
      "=====================================================\n",
      "group1 group2 meandiff p-adj   lower    upper  reject\n",
      "-----------------------------------------------------\n",
      "     1      2 -10.7696    0.0 -14.7738 -6.7654   True\n",
      "     1      3  -2.7345 0.2444  -6.7388  1.2697  False\n",
      "     2      3   8.0351    0.0   4.1208 11.9493   True\n",
      "-----------------------------------------------------\n"
     ]
    },
    {
     "data": {
      "image/png": "[encoded data removed]",
      "text/plain": [
       "<Figure size 720x432 with 1 Axes>"
      ]
     },
     "metadata": {},
     "output_type": "display_data"
    }
   ],
   "source": [
    "tukey_test(MS_Large,\"большом размере рынка\")"
   ]
  },
  {
   "cell_type": "markdown",
   "id": "5b4de2b0",
   "metadata": {},
   "source": [
    "<a id='UTest'></a>\n",
    "### U-тест Манна-Уитни\n",
    "[Наверх](#Content)"
   ]
  },
  {
   "cell_type": "code",
   "execution_count": 24,
   "id": "261255be",
   "metadata": {},
   "outputs": [
    {
     "data": {
      "text/plain": [
       "MannwhitneyuResult(statistic=22957.5, pvalue=5.845935246838518e-12)"
      ]
     },
     "execution_count": 24,
     "metadata": {},
     "output_type": "execute_result"
    }
   ],
   "source": [
    "stats.mannwhitneyu(fastfood_df[fastfood_df['Promotion'] == 1]['SalesInThousands'], \n",
    "                   fastfood_df[fastfood_df['Promotion'] == 2]['SalesInThousands'], \n",
    "                   alternative='two-sided')"
   ]
  },
  {
   "cell_type": "code",
   "execution_count": 25,
   "id": "8b91df42",
   "metadata": {},
   "outputs": [
    {
     "data": {
      "text/plain": [
       "MannwhitneyuResult(statistic=18247.0, pvalue=0.035084095693231204)"
      ]
     },
     "execution_count": 25,
     "metadata": {},
     "output_type": "execute_result"
    }
   ],
   "source": [
    "stats.mannwhitneyu(fastfood_df[fastfood_df['Promotion'] == 1]['SalesInThousands'], \n",
    "                   fastfood_df[fastfood_df['Promotion'] == 3]['SalesInThousands'], \n",
    "                   alternative='two-sided')"
   ]
  },
  {
   "cell_type": "code",
   "execution_count": 26,
   "id": "83bbd648",
   "metadata": {},
   "outputs": [
    {
     "data": {
      "text/plain": [
       "MannwhitneyuResult(statistic=12093.0, pvalue=1.1970084441651803e-07)"
      ]
     },
     "execution_count": 26,
     "metadata": {},
     "output_type": "execute_result"
    }
   ],
   "source": [
    "stats.mannwhitneyu(fastfood_df[fastfood_df['Promotion'] == 2]['SalesInThousands'], \n",
    "                   fastfood_df[fastfood_df['Promotion'] == 3]['SalesInThousands'], \n",
    "                   alternative='two-sided')"
   ]
  },
  {
   "cell_type": "markdown",
   "id": "37a18bf1",
   "metadata": {},
   "source": [
    "<a id='Сonclusion'></a>\n",
    "## Вывод\n",
    "[Наверх](#Content)"
   ]
  },
  {
   "cell_type": "markdown",
   "id": "c72fd30c",
   "metadata": {},
   "source": [
    "Вывод, полученный из расчета с использованием t-критерия Стьюдента, заключается в том, что рекламные материалы  1 и 3 существенно лучше оказывают влияние на уровень продаж новых позиций меню компании быстрого питания чем рекламный материал 2. Следует испольовать именно их."
   ]
  },
  {
   "cell_type": "code",
   "execution_count": null,
   "id": "8d351c78",
   "metadata": {},
   "outputs": [],
   "source": []
  }
 ],
 "metadata": {
  "kernelspec": {
   "display_name": "Python 3 (ipykernel)",
   "language": "python",
   "name": "python3"
  },
  "language_info": {
   "codemirror_mode": {
    "name": "ipython",
    "version": 3
   },
   "file_extension": ".py",
   "mimetype": "text/x-python",
   "name": "python",
   "nbconvert_exporter": "python",
   "pygments_lexer": "ipython3",
   "version": "3.9.12"
  }
 },
 "nbformat": 4,
 "nbformat_minor": 5
}
